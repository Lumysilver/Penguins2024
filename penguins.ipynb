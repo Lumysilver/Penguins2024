{
 "cells": [
  {
   "cell_type": "markdown",
   "id": "08c1b2a7-6ff9-409d-a6d9-63c95ff6d4af",
   "metadata": {},
   "source": [
    "# Palmer Penguins dataset\n",
    "\n",
    "The Palmer Penguins dataset is a collection of data that was collected from 2007 to 2009 by Dr. Kristen Gorman with the Palmer Station Long Term Ecological Research Program, part of the US Long Term Ecological Research Network1.\n",
    "\n",
    "The dataset contains size measurements for three penguin species observed on three islands in the Palmer Archipelago, Antarctica."
   ]
  },
  {
   "cell_type": "markdown",
   "id": "adde3742-7a57-4ee2-959f-a99a1100aee7",
   "metadata": {},
   "source": [
    "### Load the dataset\n",
    "To read and be able to extract data from the CSV, I will use the Pandas library. Pandas is a powerful Python for manipulation and analyze data."
   ]
  },
  {
   "cell_type": "code",
   "execution_count": 1,
   "id": "3a2dc03e-1630-473b-b9f8-ba3e5963d908",
   "metadata": {},
   "outputs": [],
   "source": [
    "import pandas as pd"
   ]
  },
  {
   "cell_type": "markdown",
   "id": "d44fac82-7c3d-4185-af82-8ec80eed0b31",
   "metadata": {},
   "source": [
    "Once Pandas libary is incldued in the project, te CSV will loaded from https://raw.githubusercontent.com/mwaskom/seaborn-data/master/penguins.csv, and stored in the url variable.\n",
    "\n",
    "The CSV data is read using the Pandas library and stored for futher operation in the penguins variable."
   ]
  },
  {
   "cell_type": "code",
   "execution_count": 2,
   "id": "f3e73055-baee-4580-8f76-fe8128878fcc",
   "metadata": {},
   "outputs": [],
   "source": [
    "url = \"https://raw.githubusercontent.com/mwaskom/seaborn-data/master/penguins.csv\"\n",
    "\n",
    "penguins = pd.read_csv(url)"
   ]
  },
  {
   "cell_type": "markdown",
   "id": "935d14ee-5b1b-4fb0-b80f-e111668b6fa0",
   "metadata": {
    "jp-MarkdownHeadingCollapsed": true
   },
   "source": [
    "#### Dataset variables\n",
    "\n",
    "The penguins dataset contains 8 variables for 344 penguins:\n",
    "\n",
    "- **species**: The species of the penguin\n",
    "- **island**: The island where the penguin was observed\n",
    "- **bill_length_mm**: The length of the penguin’s bill in mm\n",
    "- **bill_depth_mm**: The depth of the penguin’s bill in mm\n",
    "- **flipper_length_mm**: The length of the penguin’s flipper in mm\n",
    "- **body_mass_g**: The body mass of the penguin in grams\n",
    "- **sex**: The sex of the penguin\n",
    "- **year**: The year the observation was made\n"
   ]
  },
  {
   "cell_type": "markdown",
   "id": "88a3a1dc-0f61-431c-932e-9e9caa01edf7",
   "metadata": {},
   "source": [
    "### Data Visualization\n",
    "To display visualizations for the dataset, I will import the **matplotlib** library to the project. **Matplotlib** is a powerful plotting library in Python used for creating static, animated, and interactive visualizations."
   ]
  },
  {
   "cell_type": "code",
   "execution_count": 3,
   "id": "314398b4-2358-4b13-9b94-ca2cb8c2f809",
   "metadata": {},
   "outputs": [],
   "source": [
    "import matplotlib.pyplot as plt"
   ]
  },
  {
   "cell_type": "markdown",
   "id": "246db192-a00a-431a-b186-c3d9e6351d40",
   "metadata": {},
   "source": [
    "I will analyze the body mass for different penguin species. \n",
    "\n",
    "- **Body Mass** (`body_mass_g` column from CSV): This should be represented as **integers** and represents the body mass calculated in grams.\n",
    "- **Species** (`species` column from CSV): This should be represented as a **string** and represents the species name."
   ]
  },
  {
   "cell_type": "markdown",
   "id": "a4758dfd-5ef2-4eb1-a20b-83ce3f324779",
   "metadata": {},
   "source": [
    "In the code below, I will calculate the average body mass and compare it for each species. On the X-axis, the species label is displayed, and on the Y-axis is the average body mass. Each species is represented by a different color."
   ]
  },
  {
   "cell_type": "code",
   "execution_count": 4,
   "id": "652869ec-01b2-47c6-959d-e77a4a3bba21",
   "metadata": {},
   "outputs": [
    {
     "data": {
      "image/png": "[encoded data removed]",
      "text/plain": [
       "<Figure size 576x288 with 1 Axes>"
      ]
     },
     "metadata": {
      "needs_background": "light"
     },
     "output_type": "display_data"
    }
   ],
   "source": [
    "# Group the data by species and calculate the average body mass for each species\n",
    "avg_body_mass = penguins.groupby('species')['body_mass_g'].mean()\n",
    "\n",
    "# list of colors\n",
    "colors = ['blue', 'orange', 'green']\n",
    "\n",
    "# The bar chart\n",
    "plt.figure(figsize=(8, 4))  # Figure size\n",
    "plt.bar(avg_body_mass.index, avg_body_mass.values, color=colors)  # Craete the bar and assign colors to each bar\n",
    "\n",
    "# Add labels and title\n",
    "plt.xlabel('Species')\n",
    "plt.ylabel('Average Body Mass (g)')\n",
    "plt.title('Average Body Mass of Penguin Species')\n",
    "\n",
    "# Display the plot\n",
    "plt.show()"
   ]
  },
  {
   "cell_type": "markdown",
   "id": "131c610e-236e-46a3-9153-ef2bcdab8119",
   "metadata": {},
   "source": [
    "Below, we are going to display a histogram with the `body_mass_g` values on the X-axis and the frequency values on the Y-axis."
   ]
  },
  {
   "cell_type": "code",
   "execution_count": 5,
   "id": "7f9b41d5-7385-41f5-9108-02c20215c6a7",
   "metadata": {},
   "outputs": [
    {
     "data": {
      "image/png": "[encoded data removed]",
      "text/plain": [
       "<Figure size 576x288 with 1 Axes>"
      ]
     },
     "metadata": {
      "needs_background": "light"
     },
     "output_type": "display_data"
    }
   ],
   "source": [
    "import matplotlib.pyplot as plt\n",
    "\n",
    "plt.figure(figsize=(8, 4))  # Figure size\n",
    "plt.hist(penguins['body_mass_g'], color='limegreen')  # Create the histogram\n",
    "\n",
    "# labels and title\n",
    "plt.xlabel('Body Mass (g)')\n",
    "plt.ylabel('Frequency')\n",
    "plt.title('Distribution of Penguin Body Mass')\n",
    "\n",
    "# Display the plot\n",
    "plt.show()\n"
   ]
  },
  {
   "cell_type": "markdown",
   "id": "743e448b",
   "metadata": {},
   "source": [
    "### Correlation analysis\n",
    "\n",
    "We're about to do some correlation analysis on penguin bills. First, we're selecting the variables bill_length_mm and bill_depth_mm. Then, we'll calculate the correlation coefficient between them and print out the result."
   ]
  },
  {
   "cell_type": "code",
   "execution_count": 6,
   "id": "18079657",
   "metadata": {},
   "outputs": [
    {
     "name": "stdout",
     "output_type": "stream",
     "text": [
      "Correlation Coefficient between bill_length_mm and bill_depth_mm : -0.2350528703555326\n"
     ]
    }
   ],
   "source": [
    "# Select the bill_length_mm and bill_depth_mm variables for correlation analysis\n",
    "variable1 = 'bill_length_mm'\n",
    "variable2 = 'bill_depth_mm'\n",
    "\n",
    "# Calculate the correlation coefficient\n",
    "correlation_coefficient = penguins[variable1].corr(penguins[variable2])\n",
    "\n",
    "print(\"Correlation Coefficient between\", variable1, \"and\", variable2, \":\", correlation_coefficient)"
   ]
  },
  {
   "cell_type": "markdown",
   "id": "d93e7040",
   "metadata": {},
   "source": [
    "To analyze the correlation between `body_mass_g` and `species`, because these two variables are of different types, I will use a different method. I will calculate the average `body_mass_g` for each `species`. If the averages are significantly different, this also indicates a relationship."
   ]
  },
  {
   "cell_type": "markdown",
   "id": "cf1f51dc",
   "metadata": {},
   "source": [
    "To display this box plot, I will use the **Seaborn** library. **Seaborn** library is a data visualisation library that provides a high-level interface for drawing attractive and informative statistical graphics."
   ]
  },
  {
   "cell_type": "code",
   "execution_count": 7,
   "id": "1f92d70c",
   "metadata": {},
   "outputs": [
    {
     "name": "stdout",
     "output_type": "stream",
     "text": [
      "species\n",
      "Adelie       3700.662252\n",
      "Chinstrap    3733.088235\n",
      "Gentoo       5076.016260\n",
      "Name: body_mass_g, dtype: float64\n"
     ]
    },
    {
     "data": {
      "image/png": "[encoded data removed]",
      "text/plain": [
       "<Figure size 576x288 with 1 Axes>"
      ]
     },
     "metadata": {
      "needs_background": "light"
     },
     "output_type": "display_data"
    }
   ],
   "source": [
    "import seaborn as sns\n",
    "\n",
    "# body mass average grouped\n",
    "avg_body_mass = penguins.groupby('species')['body_mass_g'].mean()\n",
    "\n",
    "# print the reuslt\n",
    "print(avg_body_mass)\n",
    "\n",
    "# Create a box plot of body mass for each species\n",
    "plt.figure(figsize=(8, 4))\n",
    "sns.boxplot(x='species', y='body_mass_g', data=penguins)\n",
    "plt.title('Body Mass by Species')\n",
    "plt.show()"
   ]
  },
  {
   "cell_type": "code",
   "execution_count": null,
   "id": "3af35f7d",
   "metadata": {},
   "outputs": [],
   "source": []
  }
 ],
 "metadata": {
  "kernelspec": {
   "display_name": "Python 3 (ipykernel)",
   "language": "python",
   "name": "python3"
  },
  "language_info": {
   "codemirror_mode": {
    "name": "ipython",
    "version": 3
   },
   "file_extension": ".py",
   "mimetype": "text/x-python",
   "name": "python",
   "nbconvert_exporter": "python",
   "pygments_lexer": "ipython3",
   "version": "3.9.12"
  }
 },
 "nbformat": 4,
 "nbformat_minor": 5
}
